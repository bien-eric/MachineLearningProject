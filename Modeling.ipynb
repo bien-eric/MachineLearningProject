{
  "nbformat": 4,
  "nbformat_minor": 0,
  "metadata": {
    "colab": {
      "name": "Modeling",
      "provenance": [],
      "collapsed_sections": []
    },
    "kernelspec": {
      "name": "python3",
      "display_name": "Python 3"
    }
  },
  "cells": [
    {
      "cell_type": "code",
      "metadata": {
        "id": "OqBk9mtqATo_"
      },
      "source": [
        "import numpy as np\n",
        "import pandas as pd"
      ],
      "execution_count": null,
      "outputs": []
    },
    {
      "cell_type": "code",
      "metadata": {
        "id": "fYR2cEW9D1vS"
      },
      "source": [
        "#Uploading all files with mounted google drive\n",
        "train = pd.read_csv('/content/drive/MyDrive/Fall 2020/Intro to Machine Learning Applications/Project/act_train.csv')\n",
        "test = pd.read_csv('/content/drive/MyDrive/Fall 2020/Intro to Machine Learning Applications/Project/act_test.csv')\n",
        "people = pd.read_csv('/content/drive/MyDrive/Fall 2020/Intro to Machine Learning Applications/Project/people.csv')"
      ],
      "execution_count": null,
      "outputs": []
    },
    {
      "cell_type": "code",
      "metadata": {
        "id": "QSWFk0-JFdig",
        "colab": {
          "base_uri": "https://localhost:8080/"
        },
        "outputId": "8246ad38-88a3-424c-be98-a0b567522135"
      },
      "source": [
        "#Count of null values in train\r\n",
        "print(train.isnull().sum())"
      ],
      "execution_count": null,
      "outputs": [
        {
          "output_type": "stream",
          "text": [
            "people_id                  0\n",
            "activity_id                0\n",
            "date                       0\n",
            "activity_category          0\n",
            "char_1               2039676\n",
            "char_2               2039676\n",
            "char_3               2039676\n",
            "char_4               2039676\n",
            "char_5               2039676\n",
            "char_6               2039676\n",
            "char_7               2039676\n",
            "char_8               2039676\n",
            "char_9               2039676\n",
            "char_10               157615\n",
            "outcome                    0\n",
            "dtype: int64\n"
          ],
          "name": "stdout"
        }
      ]
    },
    {
      "cell_type": "code",
      "metadata": {
        "id": "PWVR0pafI-nw",
        "colab": {
          "base_uri": "https://localhost:8080/"
        },
        "outputId": "c1ce907b-539d-4d57-b969-cca6f39e7084"
      },
      "source": [
        "#Count of null values in people\r\n",
        "print(people.isnull().sum())"
      ],
      "execution_count": null,
      "outputs": [
        {
          "output_type": "stream",
          "text": [
            "people_id    0\n",
            "char_1       0\n",
            "group_1      0\n",
            "char_2       0\n",
            "date         0\n",
            "char_3       0\n",
            "char_4       0\n",
            "char_5       0\n",
            "char_6       0\n",
            "char_7       0\n",
            "char_8       0\n",
            "char_9       0\n",
            "char_10      0\n",
            "char_11      0\n",
            "char_12      0\n",
            "char_13      0\n",
            "char_14      0\n",
            "char_15      0\n",
            "char_16      0\n",
            "char_17      0\n",
            "char_18      0\n",
            "char_19      0\n",
            "char_20      0\n",
            "char_21      0\n",
            "char_22      0\n",
            "char_23      0\n",
            "char_24      0\n",
            "char_25      0\n",
            "char_26      0\n",
            "char_27      0\n",
            "char_28      0\n",
            "char_29      0\n",
            "char_30      0\n",
            "char_31      0\n",
            "char_32      0\n",
            "char_33      0\n",
            "char_34      0\n",
            "char_35      0\n",
            "char_36      0\n",
            "char_37      0\n",
            "char_38      0\n",
            "dtype: int64\n"
          ],
          "name": "stdout"
        }
      ]
    },
    {
      "cell_type": "code",
      "metadata": {
        "id": "ecr_L--RBYzj"
      },
      "source": [
        "#Merging the train and test datasets with the people datatset\n",
        "train = pd.merge(train, people, on='people_id')\n",
        "test = pd.merge(test, people, on='people_id')"
      ],
      "execution_count": null,
      "outputs": []
    },
    {
      "cell_type": "code",
      "metadata": {
        "id": "nN8ICX1rXdTL"
      },
      "source": [
        "#Training Data Pre-Processing  \n",
        "\n",
        "y_train = train['outcome']\n",
        "\n",
        "data = train.drop(['outcome','date_x','date_y'],axis=1).copy()\n",
        "\n",
        "\n",
        "\n",
        "# clean\n",
        "data[['activity_category','activity_id','char_1_x','char_2_x','char_3_x','char_4_x','char_5_x','char_6_x','char_7_x','char_8_x','char_9_x','char_10_x']]  = data[['activity_category','activity_id','char_1_x','char_2_x','char_3_x','char_4_x','char_5_x','char_6_x','char_7_x','char_8_x','char_9_x','char_10_x']].fillna('type 0')\n",
        "data[['char_1_y','char_2_y','char_3_y','char_4_y','char_5_y','char_6_y','char_7_y','char_8_y','char_9_y']]  = data[['char_1_y','char_2_y','char_3_y','char_4_y','char_5_y','char_6_y','char_7_y','char_8_y','char_9_y']].fillna('type 0')\n",
        "\n",
        "# Make each char numeric\n",
        "data['people_id'] = pd.to_numeric( data['people_id'].apply(lambda x: x.split('_')[1]) )\n",
        "data['activity_id'] = pd.to_numeric( data['activity_id'].apply(lambda x: x.split('_')[1]) )\n",
        "data['activity_category'] = pd.to_numeric( data['activity_category'].apply(lambda x: str(x).split(' ')[1]) )\n",
        "\n",
        "# numeric for x 1-10\n",
        "for i in range(1,11):\n",
        "  data['char_'+str(i)+'_x'] = pd.to_numeric( data['char_'+str(i)+'_x'].apply(lambda x: str(x).split(' ')[1]) )\n",
        "\n",
        "# numeric for y 1-9\n",
        "for i in range(1,10):\n",
        "  data['char_'+str(i)+'_y'] = pd.to_numeric( data['char_'+str(i)+'_y'].apply(lambda x: str(x).split(' ')[1]) )\n",
        "\n",
        "\n",
        "# convert bools to integer 11-37 \n",
        "for i in range(10, 38):\n",
        "  if(i==10):\n",
        "    data['char_'+str(i)+\"_y\"] = data['char_'+str(i)+\"_y\"].astype(int)\n",
        "  else:\n",
        "    data['char_'+str(i)] = data['char_'+str(i)].astype(int)\n",
        "\n",
        "data['group_1'] = pd.to_numeric( data['group_1'].apply(lambda x: str(x).split(' ')[1]) )\n",
        "\n",
        "#print(data.dtypes)\n",
        "#print(data)"
      ],
      "execution_count": null,
      "outputs": []
    },
    {
      "cell_type": "code",
      "metadata": {
        "id": "5F5vk_iGykzM"
      },
      "source": [
        "# Test Data Pre-Processing\n",
        "data2 = test.drop(['date_x','date_y'],axis=1).copy()\n",
        "\n",
        "\n",
        "# clean\n",
        "data2[['activity_category','activity_id','char_1_x','char_2_x','char_3_x','char_4_x','char_5_x','char_6_x','char_7_x','char_8_x','char_9_x','char_10_x']]  =data2[['activity_category','activity_id','char_1_x','char_2_x','char_3_x','char_4_x','char_5_x','char_6_x','char_7_x','char_8_x','char_9_x','char_10_x']].fillna('type 0')\n",
        "data2[['char_1_y','char_2_y','char_3_y','char_4_y','char_5_y','char_6_y','char_7_y','char_8_y','char_9_y']]  =data2[['char_1_y','char_2_y','char_3_y','char_4_y','char_5_y','char_6_y','char_7_y','char_8_y','char_9_y']].fillna('type 0')\n",
        "\n",
        "# Make each char numeric\n",
        "data2['people_id'] = pd.to_numeric( data2['people_id'].apply(lambda x: x.split('_')[1]) )\n",
        "data2['activity_id'] = pd.to_numeric( data2['activity_id'].apply(lambda x: x.split('_')[1]) )\n",
        "data2['activity_category'] = pd.to_numeric( data2['activity_category'].apply(lambda x: str(x).split(' ')[1]) )\n",
        "\n",
        "# numeric for x 1-10\n",
        "for i in range(1,11):\n",
        "  data2['char_'+str(i)+'_x'] = pd.to_numeric( data2['char_'+str(i)+'_x'].apply(lambda x: str(x).split(' ')[1]) )\n",
        "\n",
        "# numeric for y 1-9\n",
        "for i in range(1,10):\n",
        "  data2['char_'+str(i)+'_y'] = pd.to_numeric( data2['char_'+str(i)+'_y'].apply(lambda x: str(x).split(' ')[1]) )\n",
        "\n",
        "\n",
        "# convert bools to integer 11-37 \n",
        "for i in range(10, 38):\n",
        "  if(i==10):\n",
        "    data2['char_'+str(i)+\"_y\"] = data2['char_'+str(i)+\"_y\"].astype(int)\n",
        "  else:\n",
        "    data2['char_'+str(i)] = data2['char_'+str(i)].astype(int)\n",
        "\n",
        "data2['group_1'] = pd.to_numeric( data2['group_1'].apply(lambda x: str(x).split(' ')[1]) )\n",
        "\n",
        "#print(data2.dtypes)\n",
        "#print(data2)\n"
      ],
      "execution_count": null,
      "outputs": []
    },
    {
      "cell_type": "code",
      "metadata": {
        "colab": {
          "base_uri": "https://localhost:8080/",
          "height": 814
        },
        "id": "eZRndNsO60SH",
        "outputId": "2d4a49fc-92e7-4c8c-b897-8659ec879c51"
      },
      "source": [
        "# PCA\n",
        "\n",
        "import plotly.express as px\n",
        "#create list of feature names\n",
        "initial_feature_names = []\n",
        "for col in data.columns:\n",
        "  initial_feature_names.append(col)\n",
        "print(initial_feature_names)\n",
        "\n",
        "#run pca\n",
        "from sklearn.decomposition import PCA\n",
        "pca = PCA(n_components=51)\n",
        "pca.fit(data, y_train)\n",
        "\n",
        "#get number of components and most important components\n",
        "n_pcs = pca.components_.shape[0]\n",
        "most_important = [np.abs(pca.components_[i]).argmax() for i in range(n_pcs)]\n",
        "\n",
        "#list of names in order of variance explained\n",
        "most_important_names = [initial_feature_names[most_important[i]] for i in range(n_pcs)]\n",
        "print(most_important_names)\n",
        "\n",
        "#list of variances\n",
        "variances = pca.explained_variance_ratio_\n",
        "print(variances)\n",
        "\n",
        "#graph\n",
        "exp_var_cumul = np.cumsum(pca.explained_variance_ratio_)\n",
        "\n",
        "px.area(\n",
        "    x = range(1, exp_var_cumul.shape[0] + 1),\n",
        "    y = exp_var_cumul,\n",
        "    labels={\"x\": \"# Components\", \"y\": \"Explained Variance\"}\n",
        ")\n",
        "\n",
        "# people_id and activity_category account for 99% of variance each\n"
      ],
      "execution_count": null,
      "outputs": [
        {
          "output_type": "stream",
          "text": [
            "['people_id', 'activity_category', 'char_1_x', 'char_2_x', 'char_3_x', 'char_4_x', 'char_5_x', 'char_6_x', 'char_7_x', 'char_8_x', 'char_9_x', 'char_10_x', 'char_1_y', 'group_1', 'char_2_y', 'char_3_y', 'char_4_y', 'char_5_y', 'char_6_y', 'char_7_y', 'char_8_y', 'char_9_y', 'char_10_y', 'char_11', 'char_12', 'char_13', 'char_14', 'char_15', 'char_16', 'char_17', 'char_18', 'char_19', 'char_20', 'char_21', 'char_22', 'char_23', 'char_24', 'char_25', 'char_26', 'char_27', 'char_28', 'char_29', 'char_30', 'char_31', 'char_32', 'char_33', 'char_34', 'char_35', 'char_36', 'char_37', 'char_38']\n",
            "['people_id', 'group_1', 'char_10_x', 'char_38', 'char_3_y', 'char_7_y', 'char_1_x', 'char_4_y', 'char_9_y', 'char_1_x', 'char_9_y', 'char_5_y', 'char_2_x', 'char_8_y', 'activity_category', 'char_6_y', 'char_8_x', 'char_2_y', 'char_5_x', 'char_31', 'char_8_x', 'char_7_x', 'char_25', 'char_18', 'char_16', 'char_25', 'char_15', 'char_4_x', 'char_4_x', 'char_10_y', 'char_28', 'char_14', 'char_35', 'char_24', 'char_26', 'char_17', 'char_11', 'char_32', 'char_29', 'char_14', 'char_30', 'char_15', 'char_33', 'char_27', 'char_22', 'char_6_x', 'char_19', 'char_16', 'char_37', 'char_1_y', 'char_21']\n",
            "[9.92841698e-01 7.05790800e-03 1.00271333e-04 9.27453487e-08\n",
            " 2.34465013e-08 3.07718941e-09 1.19783875e-09 8.38219304e-10\n",
            " 3.79190965e-10 1.81467781e-10 1.69025112e-10 1.59018192e-10\n",
            " 1.10879385e-10 8.35048117e-11 7.68475018e-11 5.94755337e-11\n",
            " 5.45570920e-11 2.52342831e-11 2.30691996e-11 2.15598625e-11\n",
            " 2.05429583e-11 1.62980633e-11 9.36995757e-12 8.00739599e-12\n",
            " 7.18253776e-12 6.51015832e-12 6.29186123e-12 5.34492868e-12\n",
            " 5.29102826e-12 4.90609004e-12 4.68712148e-12 4.13780913e-12\n",
            " 3.80440299e-12 3.56902685e-12 3.45735049e-12 3.27387191e-12\n",
            " 3.17823891e-12 3.04699460e-12 2.87969567e-12 2.79140755e-12\n",
            " 2.67155857e-12 2.50513739e-12 2.41551932e-12 2.30284280e-12\n",
            " 2.28804935e-12 2.18863430e-12 2.00491312e-12 1.61322262e-12\n",
            " 1.31938694e-12 8.21765123e-13 2.51661881e-13]\n"
          ],
          "name": "stdout"
        },
        {
          "output_type": "display_data",
          "data": {
            "text/html": [
              "<html>\n",
              "<head><meta charset=\"utf-8\" /></head>\n",
              "<body>\n",
              "    <div>\n",
              "            <script src=\"https://cdnjs.cloudflare.com/ajax/libs/mathjax/2.7.5/MathJax.js?config=TeX-AMS-MML_SVG\"></script><script type=\"text/javascript\">if (window.MathJax) {MathJax.Hub.Config({SVG: {font: \"STIX-Web\"}});}</script>\n",
              "                <script type=\"text/javascript\">window.PlotlyConfig = {MathJaxConfig: 'local'};</script>\n",
              "        <script src=\"https://cdn.plot.ly/plotly-latest.min.js\"></script>    \n",
              "            <div id=\"a462436d-5c5f-4855-b974-eb0c1f15079e\" class=\"plotly-graph-div\" style=\"height:525px; width:100%;\"></div>\n",
              "            <script type=\"text/javascript\">\n",
              "                \n",
              "                    window.PLOTLYENV=window.PLOTLYENV || {};\n",
              "                    \n",
              "                if (document.getElementById(\"a462436d-5c5f-4855-b974-eb0c1f15079e\")) {\n",
              "                    Plotly.newPlot(\n",
              "                        'a462436d-5c5f-4855-b974-eb0c1f15079e',\n",
              "                        [{\"hoverlabel\": {\"namelength\": 0}, \"hovertemplate\": \"# Components=%{x}<br>Explained Variance=%{y}\", \"legendgroup\": \"\", \"line\": {\"color\": \"#636efa\"}, \"mode\": \"lines\", \"name\": \"\", \"orientation\": \"v\", \"showlegend\": false, \"stackgroup\": \"1\", \"type\": \"scatter\", \"x\": [1, 2, 3, 4, 5, 6, 7, 8, 9, 10, 11, 12, 13, 14, 15, 16, 17, 18, 19, 20, 21, 22, 23, 24, 25, 26, 27, 28, 29, 30, 31, 32, 33, 34, 35, 36, 37, 38, 39, 40, 41, 42, 43, 44, 45, 46, 47, 48, 49, 50, 51], \"xaxis\": \"x\", \"y\": [0.9928416978772029, 0.9998996058732872, 0.9999998772061193, 0.9999999699514679, 0.9999999933979692, 0.9999999964751586, 0.9999999976729973, 0.9999999985112166, 0.9999999988904076, 0.9999999990718753, 0.9999999992409004, 0.9999999993999187, 0.9999999995107981, 0.9999999995943029, 0.9999999996711504, 0.9999999997306259, 0.9999999997851831, 0.9999999998104173, 0.9999999998334865, 0.9999999998550464, 0.9999999998755894, 0.9999999998918875, 0.9999999999012574, 0.9999999999092648, 0.9999999999164474, 0.9999999999229575, 0.9999999999292494, 0.9999999999345943, 0.9999999999398853, 0.9999999999447914, 0.9999999999494785, 0.9999999999536163, 0.9999999999574207, 0.9999999999609898, 0.9999999999644471, 0.9999999999677209, 0.9999999999708992, 0.9999999999739462, 0.9999999999768259, 0.9999999999796173, 0.9999999999822888, 0.9999999999847939, 0.9999999999872095, 0.9999999999895123, 0.9999999999918003, 0.9999999999939889, 0.9999999999959939, 0.9999999999976071, 0.9999999999989265, 0.9999999999997483, 1.0], \"yaxis\": \"y\"}],\n",
              "                        {\"legend\": {\"tracegroupgap\": 0}, \"margin\": {\"t\": 60}, \"template\": {\"data\": {\"bar\": [{\"error_x\": {\"color\": \"#2a3f5f\"}, \"error_y\": {\"color\": \"#2a3f5f\"}, \"marker\": {\"line\": {\"color\": \"#E5ECF6\", \"width\": 0.5}}, \"type\": \"bar\"}], \"barpolar\": [{\"marker\": {\"line\": {\"color\": \"#E5ECF6\", \"width\": 0.5}}, \"type\": \"barpolar\"}], \"carpet\": [{\"aaxis\": {\"endlinecolor\": \"#2a3f5f\", \"gridcolor\": \"white\", \"linecolor\": \"white\", \"minorgridcolor\": \"white\", \"startlinecolor\": \"#2a3f5f\"}, \"baxis\": {\"endlinecolor\": \"#2a3f5f\", \"gridcolor\": \"white\", \"linecolor\": \"white\", \"minorgridcolor\": \"white\", \"startlinecolor\": \"#2a3f5f\"}, \"type\": \"carpet\"}], \"choropleth\": [{\"colorbar\": {\"outlinewidth\": 0, \"ticks\": \"\"}, \"type\": \"choropleth\"}], \"contour\": [{\"colorbar\": {\"outlinewidth\": 0, \"ticks\": \"\"}, \"colorscale\": [[0.0, \"#0d0887\"], [0.1111111111111111, \"#46039f\"], [0.2222222222222222, \"#7201a8\"], [0.3333333333333333, \"#9c179e\"], [0.4444444444444444, \"#bd3786\"], [0.5555555555555556, \"#d8576b\"], [0.6666666666666666, \"#ed7953\"], [0.7777777777777778, \"#fb9f3a\"], [0.8888888888888888, \"#fdca26\"], [1.0, \"#f0f921\"]], \"type\": \"contour\"}], \"contourcarpet\": [{\"colorbar\": {\"outlinewidth\": 0, \"ticks\": \"\"}, \"type\": \"contourcarpet\"}], \"heatmap\": [{\"colorbar\": {\"outlinewidth\": 0, \"ticks\": \"\"}, \"colorscale\": [[0.0, \"#0d0887\"], [0.1111111111111111, \"#46039f\"], [0.2222222222222222, \"#7201a8\"], [0.3333333333333333, \"#9c179e\"], [0.4444444444444444, \"#bd3786\"], [0.5555555555555556, \"#d8576b\"], [0.6666666666666666, \"#ed7953\"], [0.7777777777777778, \"#fb9f3a\"], [0.8888888888888888, \"#fdca26\"], [1.0, \"#f0f921\"]], \"type\": \"heatmap\"}], \"heatmapgl\": [{\"colorbar\": {\"outlinewidth\": 0, \"ticks\": \"\"}, \"colorscale\": [[0.0, \"#0d0887\"], [0.1111111111111111, \"#46039f\"], [0.2222222222222222, \"#7201a8\"], [0.3333333333333333, \"#9c179e\"], [0.4444444444444444, \"#bd3786\"], [0.5555555555555556, \"#d8576b\"], [0.6666666666666666, \"#ed7953\"], [0.7777777777777778, \"#fb9f3a\"], [0.8888888888888888, \"#fdca26\"], [1.0, \"#f0f921\"]], \"type\": \"heatmapgl\"}], \"histogram\": [{\"marker\": {\"colorbar\": {\"outlinewidth\": 0, \"ticks\": \"\"}}, \"type\": \"histogram\"}], \"histogram2d\": [{\"colorbar\": {\"outlinewidth\": 0, \"ticks\": \"\"}, \"colorscale\": [[0.0, \"#0d0887\"], [0.1111111111111111, \"#46039f\"], [0.2222222222222222, \"#7201a8\"], [0.3333333333333333, \"#9c179e\"], [0.4444444444444444, \"#bd3786\"], [0.5555555555555556, \"#d8576b\"], [0.6666666666666666, \"#ed7953\"], [0.7777777777777778, \"#fb9f3a\"], [0.8888888888888888, \"#fdca26\"], [1.0, \"#f0f921\"]], \"type\": \"histogram2d\"}], \"histogram2dcontour\": [{\"colorbar\": {\"outlinewidth\": 0, \"ticks\": \"\"}, \"colorscale\": [[0.0, \"#0d0887\"], [0.1111111111111111, \"#46039f\"], [0.2222222222222222, \"#7201a8\"], [0.3333333333333333, \"#9c179e\"], [0.4444444444444444, \"#bd3786\"], [0.5555555555555556, \"#d8576b\"], [0.6666666666666666, \"#ed7953\"], [0.7777777777777778, \"#fb9f3a\"], [0.8888888888888888, \"#fdca26\"], [1.0, \"#f0f921\"]], \"type\": \"histogram2dcontour\"}], \"mesh3d\": [{\"colorbar\": {\"outlinewidth\": 0, \"ticks\": \"\"}, \"type\": \"mesh3d\"}], \"parcoords\": [{\"line\": {\"colorbar\": {\"outlinewidth\": 0, \"ticks\": \"\"}}, \"type\": \"parcoords\"}], \"pie\": [{\"automargin\": true, \"type\": \"pie\"}], \"scatter\": [{\"marker\": {\"colorbar\": {\"outlinewidth\": 0, \"ticks\": \"\"}}, \"type\": \"scatter\"}], \"scatter3d\": [{\"line\": {\"colorbar\": {\"outlinewidth\": 0, \"ticks\": \"\"}}, \"marker\": {\"colorbar\": {\"outlinewidth\": 0, \"ticks\": \"\"}}, \"type\": \"scatter3d\"}], \"scattercarpet\": [{\"marker\": {\"colorbar\": {\"outlinewidth\": 0, \"ticks\": \"\"}}, \"type\": \"scattercarpet\"}], \"scattergeo\": [{\"marker\": {\"colorbar\": {\"outlinewidth\": 0, \"ticks\": \"\"}}, \"type\": \"scattergeo\"}], \"scattergl\": [{\"marker\": {\"colorbar\": {\"outlinewidth\": 0, \"ticks\": \"\"}}, \"type\": \"scattergl\"}], \"scattermapbox\": [{\"marker\": {\"colorbar\": {\"outlinewidth\": 0, \"ticks\": \"\"}}, \"type\": \"scattermapbox\"}], \"scatterpolar\": [{\"marker\": {\"colorbar\": {\"outlinewidth\": 0, \"ticks\": \"\"}}, \"type\": \"scatterpolar\"}], \"scatterpolargl\": [{\"marker\": {\"colorbar\": {\"outlinewidth\": 0, \"ticks\": \"\"}}, \"type\": \"scatterpolargl\"}], \"scatterternary\": [{\"marker\": {\"colorbar\": {\"outlinewidth\": 0, \"ticks\": \"\"}}, \"type\": \"scatterternary\"}], \"surface\": [{\"colorbar\": {\"outlinewidth\": 0, \"ticks\": \"\"}, \"colorscale\": [[0.0, \"#0d0887\"], [0.1111111111111111, \"#46039f\"], [0.2222222222222222, \"#7201a8\"], [0.3333333333333333, \"#9c179e\"], [0.4444444444444444, \"#bd3786\"], [0.5555555555555556, \"#d8576b\"], [0.6666666666666666, \"#ed7953\"], [0.7777777777777778, \"#fb9f3a\"], [0.8888888888888888, \"#fdca26\"], [1.0, \"#f0f921\"]], \"type\": \"surface\"}], \"table\": [{\"cells\": {\"fill\": {\"color\": \"#EBF0F8\"}, \"line\": {\"color\": \"white\"}}, \"header\": {\"fill\": {\"color\": \"#C8D4E3\"}, \"line\": {\"color\": \"white\"}}, \"type\": \"table\"}]}, \"layout\": {\"annotationdefaults\": {\"arrowcolor\": \"#2a3f5f\", \"arrowhead\": 0, \"arrowwidth\": 1}, \"coloraxis\": {\"colorbar\": {\"outlinewidth\": 0, \"ticks\": \"\"}}, \"colorscale\": {\"diverging\": [[0, \"#8e0152\"], [0.1, \"#c51b7d\"], [0.2, \"#de77ae\"], [0.3, \"#f1b6da\"], [0.4, \"#fde0ef\"], [0.5, \"#f7f7f7\"], [0.6, \"#e6f5d0\"], [0.7, \"#b8e186\"], [0.8, \"#7fbc41\"], [0.9, \"#4d9221\"], [1, \"#276419\"]], \"sequential\": [[0.0, \"#0d0887\"], [0.1111111111111111, \"#46039f\"], [0.2222222222222222, \"#7201a8\"], [0.3333333333333333, \"#9c179e\"], [0.4444444444444444, \"#bd3786\"], [0.5555555555555556, \"#d8576b\"], [0.6666666666666666, \"#ed7953\"], [0.7777777777777778, \"#fb9f3a\"], [0.8888888888888888, \"#fdca26\"], [1.0, \"#f0f921\"]], \"sequentialminus\": [[0.0, \"#0d0887\"], [0.1111111111111111, \"#46039f\"], [0.2222222222222222, \"#7201a8\"], [0.3333333333333333, \"#9c179e\"], [0.4444444444444444, \"#bd3786\"], [0.5555555555555556, \"#d8576b\"], [0.6666666666666666, \"#ed7953\"], [0.7777777777777778, \"#fb9f3a\"], [0.8888888888888888, \"#fdca26\"], [1.0, \"#f0f921\"]]}, \"colorway\": [\"#636efa\", \"#EF553B\", \"#00cc96\", \"#ab63fa\", \"#FFA15A\", \"#19d3f3\", \"#FF6692\", \"#B6E880\", \"#FF97FF\", \"#FECB52\"], \"font\": {\"color\": \"#2a3f5f\"}, \"geo\": {\"bgcolor\": \"white\", \"lakecolor\": \"white\", \"landcolor\": \"#E5ECF6\", \"showlakes\": true, \"showland\": true, \"subunitcolor\": \"white\"}, \"hoverlabel\": {\"align\": \"left\"}, \"hovermode\": \"closest\", \"mapbox\": {\"style\": \"light\"}, \"paper_bgcolor\": \"white\", \"plot_bgcolor\": \"#E5ECF6\", \"polar\": {\"angularaxis\": {\"gridcolor\": \"white\", \"linecolor\": \"white\", \"ticks\": \"\"}, \"bgcolor\": \"#E5ECF6\", \"radialaxis\": {\"gridcolor\": \"white\", \"linecolor\": \"white\", \"ticks\": \"\"}}, \"scene\": {\"xaxis\": {\"backgroundcolor\": \"#E5ECF6\", \"gridcolor\": \"white\", \"gridwidth\": 2, \"linecolor\": \"white\", \"showbackground\": true, \"ticks\": \"\", \"zerolinecolor\": \"white\"}, \"yaxis\": {\"backgroundcolor\": \"#E5ECF6\", \"gridcolor\": \"white\", \"gridwidth\": 2, \"linecolor\": \"white\", \"showbackground\": true, \"ticks\": \"\", \"zerolinecolor\": \"white\"}, \"zaxis\": {\"backgroundcolor\": \"#E5ECF6\", \"gridcolor\": \"white\", \"gridwidth\": 2, \"linecolor\": \"white\", \"showbackground\": true, \"ticks\": \"\", \"zerolinecolor\": \"white\"}}, \"shapedefaults\": {\"line\": {\"color\": \"#2a3f5f\"}}, \"ternary\": {\"aaxis\": {\"gridcolor\": \"white\", \"linecolor\": \"white\", \"ticks\": \"\"}, \"baxis\": {\"gridcolor\": \"white\", \"linecolor\": \"white\", \"ticks\": \"\"}, \"bgcolor\": \"#E5ECF6\", \"caxis\": {\"gridcolor\": \"white\", \"linecolor\": \"white\", \"ticks\": \"\"}}, \"title\": {\"x\": 0.05}, \"xaxis\": {\"automargin\": true, \"gridcolor\": \"white\", \"linecolor\": \"white\", \"ticks\": \"\", \"title\": {\"standoff\": 15}, \"zerolinecolor\": \"white\", \"zerolinewidth\": 2}, \"yaxis\": {\"automargin\": true, \"gridcolor\": \"white\", \"linecolor\": \"white\", \"ticks\": \"\", \"title\": {\"standoff\": 15}, \"zerolinecolor\": \"white\", \"zerolinewidth\": 2}}}, \"xaxis\": {\"anchor\": \"y\", \"domain\": [0.0, 1.0], \"title\": {\"text\": \"# Components\"}}, \"yaxis\": {\"anchor\": \"x\", \"domain\": [0.0, 1.0], \"title\": {\"text\": \"Explained Variance\"}}},\n",
              "                        {\"responsive\": true}\n",
              "                    ).then(function(){\n",
              "                            \n",
              "var gd = document.getElementById('a462436d-5c5f-4855-b974-eb0c1f15079e');\n",
              "var x = new MutationObserver(function (mutations, observer) {{\n",
              "        var display = window.getComputedStyle(gd).display;\n",
              "        if (!display || display === 'none') {{\n",
              "            console.log([gd, 'removed!']);\n",
              "            Plotly.purge(gd);\n",
              "            observer.disconnect();\n",
              "        }}\n",
              "}});\n",
              "\n",
              "// Listen for the removal of the full notebook cells\n",
              "var notebookContainer = gd.closest('#notebook-container');\n",
              "if (notebookContainer) {{\n",
              "    x.observe(notebookContainer, {childList: true});\n",
              "}}\n",
              "\n",
              "// Listen for the clearing of the current output cell\n",
              "var outputEl = gd.closest('.output');\n",
              "if (outputEl) {{\n",
              "    x.observe(outputEl, {childList: true});\n",
              "}}\n",
              "\n",
              "                        })\n",
              "                };\n",
              "                \n",
              "            </script>\n",
              "        </div>\n",
              "</body>\n",
              "</html>"
            ]
          },
          "metadata": {
            "tags": []
          }
        }
      ]
    },
    {
      "cell_type": "code",
      "metadata": {
        "colab": {
          "base_uri": "https://localhost:8080/"
        },
        "id": "P96Cr42WJDWF",
        "outputId": "ad3256bf-674a-4de6-f7be-88a216e86bfc"
      },
      "source": [
        "# Random Forest Classifier Model\n",
        "from sklearn.ensemble import RandomForestClassifier \n",
        "\n",
        "clf = RandomForestClassifier(max_depth=3, random_state=99)\n",
        "clf.fit(data, y_train)\n",
        "print(clf.predict(data2))"
      ],
      "execution_count": null,
      "outputs": [
        {
          "output_type": "stream",
          "text": [
            "[1 1 1 ... 0 0 0]\n"
          ],
          "name": "stdout"
        }
      ]
    },
    {
      "cell_type": "code",
      "metadata": {
        "id": "VBmXSj-i6uHZ"
      },
      "source": [
        "# Printing results to csv for submission\n",
        "final_submission = pd.DataFrame({ 'activity_id' : test['activity_id'].values, \n",
        "                       'outcome': clf.predict_proba(data2)[:,1] })\n",
        "final_submission.to_csv('Red_Hat_rfc.csv', index=False) "
      ],
      "execution_count": null,
      "outputs": []
    },
    {
      "cell_type": "code",
      "metadata": {
        "colab": {
          "base_uri": "https://localhost:8080/"
        },
        "id": "oDiS2JW7qvWM",
        "outputId": "2e27e04e-314c-4333-ab47-4617828c709f"
      },
      "source": [
        "# LGBMC Classifier Model\r\n",
        "from lightgbm import LGBMClassifier\r\n",
        "\r\n",
        "lgbm = LGBMClassifier(max_depth= 3, random_state=99)\r\n",
        "lgbm.fit(data, y_train)\r\n",
        "print(lgbm.predict(data2))"
      ],
      "execution_count": null,
      "outputs": [
        {
          "output_type": "stream",
          "text": [
            "[1 1 1 ... 0 0 0]\n"
          ],
          "name": "stdout"
        }
      ]
    },
    {
      "cell_type": "code",
      "metadata": {
        "id": "Fpyy15BNtCfq"
      },
      "source": [
        "# Printing results to csv for submission\r\n",
        "final_submission = pd.DataFrame({ 'activity_id' : test['activity_id'].values, \r\n",
        "                       'outcome': lgbm.predict_proba(data2)[:,1] })\r\n",
        "final_submission.to_csv('Red_Hat_lgbmc.csv', index=False) "
      ],
      "execution_count": null,
      "outputs": []
    },
    {
      "cell_type": "code",
      "metadata": {
        "colab": {
          "base_uri": "https://localhost:8080/"
        },
        "id": "TU8DqRWst74d",
        "outputId": "24d048ee-dae6-4e9e-b6f2-03803139adf0"
      },
      "source": [
        "# Decision Trees Classifier \r\n",
        "from sklearn.tree import DecisionTreeClassifier \r\n",
        "\r\n",
        "tree = DecisionTreeClassifier(random_state=99)\r\n",
        "tree.fit(data, y_train)\r\n",
        "print(tree.predict(data2))"
      ],
      "execution_count": null,
      "outputs": [
        {
          "output_type": "stream",
          "text": [
            "[0 0 1 ... 0 0 0]\n"
          ],
          "name": "stdout"
        }
      ]
    },
    {
      "cell_type": "code",
      "metadata": {
        "id": "rcZin_mewhci"
      },
      "source": [
        "# Printing results to csv for submission\r\n",
        "final_submission = pd.DataFrame({ 'activity_id' : test['activity_id'].values, \r\n",
        "                       'outcome': tree.predict_proba(data2)[:,1] })\r\n",
        "final_submission.to_csv('Red_Hat_dtc.csv', index=False) "
      ],
      "execution_count": null,
      "outputs": []
    }
  ]
}